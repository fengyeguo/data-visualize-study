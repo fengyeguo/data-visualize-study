{
 "cells": [
  {
   "cell_type": "code",
   "execution_count": 5,
   "metadata": {},
   "outputs": [],
   "source": [
    "import numpy as np\n",
    "import math"
   ]
  },
  {
   "cell_type": "code",
   "execution_count": 6,
   "metadata": {},
   "outputs": [],
   "source": [
    "data = [[0,1],[1,0],[2,3]]"
   ]
  },
  {
   "cell_type": "code",
   "execution_count": null,
   "metadata": {},
   "outputs": [],
   "source": [
    "class model:\n",
    "    def init(self):\n",
    "        self.w1 = 0.5\n",
    "        self.w2 = 0.3\n",
    "        self.b1 = 0.4\n",
    "        self.b2 = 0.2\n",
    "    \n",
    "    def forward(self, input):\n",
    "        predication = self.w2 * (self.w1 * input + self.b1) + self.b2\n",
    "        return predication\n",
    "    \n",
    "    def loss(self, real, predication):\n",
    "        L2 = (real - predication) ** 2\n",
    "        return L2\n",
    "\n",
    "    def backward(self, input, loss, real, predication):\n",
    "        return "
   ]
  }
 ],
 "metadata": {
  "kernelspec": {
   "display_name": "Python 3",
   "language": "python",
   "name": "python3"
  },
  "language_info": {
   "codemirror_mode": {
    "name": "ipython",
    "version": 3
   },
   "file_extension": ".py",
   "mimetype": "text/x-python",
   "name": "python",
   "nbconvert_exporter": "python",
   "pygments_lexer": "ipython3",
   "version": "3.9.10"
  }
 },
 "nbformat": 4,
 "nbformat_minor": 2
}
