{
 "cells": [
  {
   "cell_type": "markdown",
   "metadata": {},
   "source": [
    "  > scrapy startproject bookscraper \n",
    "  \n",
    "  > scrapy genspider bookspider books.toscrape.com \n",
    "\n",
    "  > pip install ipython\n",
    "\n",
    "  > scrapy shell\n",
    "\n",
    "  > In [1]: fetch('https://books.toscrape.com/')\n",
    "\n",
    "  > In [2]: response\n",
    "\n",
    "  > In [4]: response.css('a')\n",
    "\n",
    "\n",
    "  \n"
   ]
  }
 ],
 "metadata": {
  "kernelspec": {
   "display_name": "Python 3",
   "language": "python",
   "name": "python3"
  },
  "language_info": {
   "codemirror_mode": {
    "name": "ipython",
    "version": 3
   },
   "file_extension": ".py",
   "mimetype": "text/x-python",
   "name": "python",
   "nbconvert_exporter": "python",
   "pygments_lexer": "ipython3",
   "version": "3.9.10"
  }
 },
 "nbformat": 4,
 "nbformat_minor": 2
}
